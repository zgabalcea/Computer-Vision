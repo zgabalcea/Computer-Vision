{
 "cells": [
  {
   "cell_type": "code",
   "execution_count": 88,
   "metadata": {},
   "outputs": [],
   "source": [
    "import glob, os\n",
    "import numpy as np\n",
    "import cv2 as cv \n",
    "import os\n",
    "import glob\n",
    "\n",
    "\n",
    "from shapely.geometry import Polygon, Point"
   ]
  },
  {
   "cell_type": "code",
   "execution_count": 89,
   "metadata": {},
   "outputs": [],
   "source": [
    "def show_image(image_, window_name='image', timeout=0):\n",
    "    \"\"\"\n",
    "    Show image.\n",
    "    :param image_\n",
    "    :param window_name\n",
    "    :param timeout\n",
    "    \"\"\"\n",
    "    height, width = image_.shape[:2]\n",
    "\n",
    "    cv.imshow(window_name, np.uint8(image_))\n",
    "    cv.waitKey(timeout)\n",
    "    cv.destroyAllWindows()"
   ]
  },
  {
   "cell_type": "code",
   "execution_count": 90,
   "metadata": {},
   "outputs": [],
   "source": [
    "#GET ALL IMAGES FROM A FOLDER WITH THEIR QUERRIES\n",
    "def get_images_and_querries(folder_path):\n",
    "    \n",
    "    files = os.listdir(folder_path)\n",
    "\n",
    "    images = []\n",
    "    images_querries = []\n",
    "    #os.chdir(folder_path)\n",
    "    files = os.listdir(folder_path)\n",
    "    \n",
    "    for file in files:\n",
    "        if f\"{file}\".endswith(\".jpg\"):\n",
    "                img = cv.imread(os.path.join(folder_path, file))\n",
    "                # images.append(cv.normalize(img, None, 0, 1.0, cv.NORM_MINMAX))\n",
    "                images.append(img)\n",
    "        else:\n",
    "            if f\"{file}\".endswith(\".txt\"):\n",
    "                images_querries.append(os.path.join(folder_path, file))\n",
    "        \n",
    "    return np.array(images),images_querries\n"
   ]
  },
  {
   "cell_type": "code",
   "execution_count": 91,
   "metadata": {},
   "outputs": [
    {
     "name": "stdout",
     "output_type": "stream",
     "text": [
      "d:\\MASTER\\ANUL I\\Sem_II\\Computer Vision\\CV-2023-Project2 test data\\__file__\n",
      "nr images:  50\n",
      "nr querries:  50\n"
     ]
    }
   ],
   "source": [
    "#base_folder = os.path.join(\"train\", 'Task1')\n",
    "\n",
    "# Get the absolute path of the IPython Notebook file\n",
    "notebook_path = os.path.abspath(\"__file__\")\n",
    "print(notebook_path)\n",
    "# Get the directory containing the IPython Notebook file\n",
    "notebook_path = os.path.dirname(notebook_path)\n",
    "\n",
    "t1_folder = os.path.join(notebook_path, \"train\", \"Task1\")\n",
    "t1_images,t1_querries = get_images_and_querries(t1_folder)\n",
    "print(\"nr images: \", len(t1_images))\n",
    "print(\"nr querries: \", len(t1_querries))\n"
   ]
  },
  {
   "cell_type": "code",
   "execution_count": 92,
   "metadata": {},
   "outputs": [
    {
     "data": {
      "text/plain": [
       "'d:\\\\MASTER\\\\ANUL I\\\\Sem_II\\\\Computer Vision\\\\CV-2023-Project2 test data\\\\train\\\\Task1\\\\01_1_query.txt'"
      ]
     },
     "execution_count": 92,
     "metadata": {},
     "output_type": "execute_result"
    }
   ],
   "source": [
    "show_image(t1_images[0])\n",
    "t1_querries[0]"
   ]
  },
  {
   "cell_type": "code",
   "execution_count": 93,
   "metadata": {},
   "outputs": [
    {
     "data": {
      "text/plain": [
       "True"
      ]
     },
     "execution_count": 93,
     "metadata": {},
     "output_type": "execute_result"
    }
   ],
   "source": [
    "#get coordinates for each monitored road\n",
    "image = t1_images[0]\n",
    "r1_p1 = [135,152] # up right\n",
    "r1_p2 = [411,393] # down right\n",
    "r1_p3 = [245,414] # down left\n",
    "r1_p4 = [116,205] # up left\n",
    "road1_corners = np.array([r1_p1, r1_p2, r1_p3, r1_p4], np.int32)\n",
    "\n",
    "mask = np.zeros_like(image)\n",
    "\n",
    "# Fill the polygon on the mask\n",
    "cv.fillPoly(mask, [road1_corners], (255, 255, 255))\n",
    "\n",
    "# Bitwise AND operation to extract the polygon region from the original image\n",
    "cropped_image = cv.bitwise_and(image, mask)\n",
    "cv.imwrite('cropped_image1.png', cropped_image)"
   ]
  },
  {
   "cell_type": "code",
   "execution_count": 94,
   "metadata": {},
   "outputs": [
    {
     "data": {
      "text/plain": [
       "True"
      ]
     },
     "execution_count": 94,
     "metadata": {},
     "output_type": "execute_result"
    }
   ],
   "source": [
    "r2_p1 = [98,54] # up right\n",
    "r2_p2 = [536,381] # down right\n",
    "r2_p3 = [411,393] # down left\n",
    "r2_p4 = [82,90] # up left\n",
    "\n",
    "road2_corners = np.array([r2_p1, r2_p2, r2_p3, r2_p4], np.int32)\n",
    "\n",
    "mask = np.zeros_like(image)\n",
    "\n",
    "# Fill the polygon on the mask\n",
    "cv.fillPoly(mask, [road2_corners], (255, 255, 255))\n",
    "\n",
    "# Bitwise AND operation to extract the polygon region from the original image\n",
    "cropped_image = cv.bitwise_and(image, mask)\n",
    "cv.imwrite('cropped_image2.png', cropped_image)"
   ]
  },
  {
   "cell_type": "code",
   "execution_count": 95,
   "metadata": {},
   "outputs": [
    {
     "data": {
      "text/plain": [
       "True"
      ]
     },
     "execution_count": 95,
     "metadata": {},
     "output_type": "execute_result"
    }
   ],
   "source": [
    "r3_p1 = [74,1] # up right\n",
    "r3_p2 = [644,371] # down right\n",
    "r3_p3 = [536,381] # down left\n",
    "r3_p4 = [43,7] # up left\n",
    "\n",
    "road3_corners = np.array([r3_p1, r3_p2, r3_p3, r3_p4], np.int32)\n",
    "\n",
    "mask = np.zeros_like(image)\n",
    "\n",
    "# Fill the polygon on the mask\n",
    "cv.fillPoly(mask, [road3_corners], (255, 255, 255))\n",
    "\n",
    "# Bitwise AND operation to extract the polygon region from the original image\n",
    "cropped_image = cv.bitwise_and(image, mask)\n",
    "cv.imwrite('cropped_image3.png', cropped_image)"
   ]
  },
  {
   "cell_type": "code",
   "execution_count": 96,
   "metadata": {},
   "outputs": [
    {
     "data": {
      "text/plain": [
       "True"
      ]
     },
     "execution_count": 96,
     "metadata": {},
     "output_type": "execute_result"
    }
   ],
   "source": [
    "r4_p1 = [1919,298] # up right\n",
    "r4_p2 = [1919,320] # down right\n",
    "r4_p3 = [1088,409] # down left\n",
    "r4_p4 = [1083,377] # up left\n",
    "\n",
    "road4_corners = np.array([r4_p1, r4_p2, r4_p3, r4_p4], np.int32)\n",
    "\n",
    "mask = np.zeros_like(image)\n",
    "\n",
    "# Fill the polygon on the mask\n",
    "cv.fillPoly(mask, [road4_corners], (255, 255, 255))\n",
    "\n",
    "# Bitwise AND operation to extract the polygon region from the original image\n",
    "cropped_image = cv.bitwise_and(image, mask)\n",
    "cv.imwrite('cropped_image4.png', cropped_image)"
   ]
  },
  {
   "cell_type": "code",
   "execution_count": 97,
   "metadata": {},
   "outputs": [
    {
     "data": {
      "text/plain": [
       "True"
      ]
     },
     "execution_count": 97,
     "metadata": {},
     "output_type": "execute_result"
    }
   ],
   "source": [
    "r5_p1 = [1918,323] # up right\n",
    "r5_p2 = [1918,346] # down right\n",
    "r5_p3 = [1166,432] # down left\n",
    "r5_p4 = [1088,409] # up left\n",
    "\n",
    "road5_corners = np.array([r5_p1, r5_p2, r5_p3, r5_p4], np.int32)\n",
    "\n",
    "mask = np.zeros_like(image)\n",
    "\n",
    "# Fill the polygon on the mask\n",
    "cv.fillPoly(mask, [road5_corners], (255, 255, 255))\n",
    "\n",
    "# Bitwise AND operation to extract the polygon region from the original image\n",
    "cropped_image = cv.bitwise_and(image, mask)\n",
    "cv.imwrite('cropped_image5.png', cropped_image)"
   ]
  },
  {
   "cell_type": "code",
   "execution_count": 98,
   "metadata": {},
   "outputs": [
    {
     "data": {
      "text/plain": [
       "True"
      ]
     },
     "execution_count": 98,
     "metadata": {},
     "output_type": "execute_result"
    }
   ],
   "source": [
    "r6_p1 = [1918,346] # up right\n",
    "r6_p2 = [1919,374] # down right\n",
    "r6_p3 = [1274,448] # down left\n",
    "r6_p4 = [1219,422] # up left\n",
    "\n",
    "road6_corners = np.array([r6_p1, r6_p2, r6_p3, r6_p4], np.int32)\n",
    "\n",
    "mask = np.zeros_like(image)\n",
    "\n",
    "# Fill the polygon on the mask\n",
    "cv.fillPoly(mask, [road6_corners], (255, 255, 255))\n",
    "\n",
    "# Bitwise AND operation to extract the polygon region from the original image\n",
    "cropped_image = cv.bitwise_and(image, mask)\n",
    "cv.imwrite('cropped_image6.png', cropped_image)"
   ]
  },
  {
   "cell_type": "code",
   "execution_count": 99,
   "metadata": {},
   "outputs": [
    {
     "data": {
      "text/plain": [
       "True"
      ]
     },
     "execution_count": 99,
     "metadata": {},
     "output_type": "execute_result"
    }
   ],
   "source": [
    "r7_p1 = [1373,596] # up right\n",
    "r7_p2 = [1918,865] # down right\n",
    "r7_p3 = [1654,878] # down left\n",
    "r7_p4 = [1197,614] # up left\n",
    "\n",
    "road7_corners = np.array([r7_p1, r7_p2, r7_p3, r7_p4], np.int32)\n",
    "\n",
    "mask = np.zeros_like(image)\n",
    "\n",
    "# Fill the polygon on the mask\n",
    "cv.fillPoly(mask, [road7_corners], (255, 255, 255))\n",
    "\n",
    "# Bitwise AND operation to extract the polygon region from the original image\n",
    "cropped_image = cv.bitwise_and(image, mask)\n",
    "cv.imwrite('cropped_image7.png', cropped_image)"
   ]
  },
  {
   "cell_type": "code",
   "execution_count": 100,
   "metadata": {},
   "outputs": [
    {
     "data": {
      "text/plain": [
       "True"
      ]
     },
     "execution_count": 100,
     "metadata": {},
     "output_type": "execute_result"
    }
   ],
   "source": [
    "r8_p1 = [1197,614] # up right\n",
    "r8_p2 = [1654,878] # down right\n",
    "r8_p3 = [1404,879] # down left\n",
    "r8_p4 = [1036,633] # up left\n",
    "\n",
    "road8_corners = np.array([r8_p1, r8_p2, r8_p3, r8_p4], np.int32)\n",
    "\n",
    "mask = np.zeros_like(image)\n",
    "\n",
    "# Fill the polygon on the mask\n",
    "cv.fillPoly(mask, [road8_corners], (255, 255, 255))\n",
    "\n",
    "# Bitwise AND operation to extract the polygon region from the original image\n",
    "cropped_image = cv.bitwise_and(image, mask)\n",
    "cv.imwrite('cropped_image8.png', cropped_image)"
   ]
  },
  {
   "cell_type": "code",
   "execution_count": 101,
   "metadata": {},
   "outputs": [
    {
     "data": {
      "text/plain": [
       "True"
      ]
     },
     "execution_count": 101,
     "metadata": {},
     "output_type": "execute_result"
    }
   ],
   "source": [
    "r9_p1 = [1036,633] # up right\n",
    "r9_p2 = [1404,879] # down right\n",
    "r9_p3 = [1197,877] # down left\n",
    "r9_p4 = [909,661] # up left\n",
    "\n",
    "road9_corners = np.array([r9_p1, r9_p2, r9_p3, r9_p4], np.int32)\n",
    "\n",
    "mask = np.zeros_like(image)\n",
    "\n",
    "# Fill the polygon on the mask\n",
    "cv.fillPoly(mask, [road9_corners], (255, 255, 255))\n",
    "\n",
    "# Bitwise AND operation to extract the polygon region from the original image\n",
    "cropped_image = cv.bitwise_and(image, mask)\n",
    "cv.imwrite('cropped_image9.png', cropped_image)"
   ]
  },
  {
   "cell_type": "code",
   "execution_count": 102,
   "metadata": {},
   "outputs": [
    {
     "name": "stdout",
     "output_type": "stream",
     "text": [
      "d:\\MASTER\\ANUL I\\Sem_II\\Computer Vision\\CV-2023-Project2 test data\n",
      "d:\\MASTER\\ANUL I\\Sem_II\\Computer Vision\\CV-2023-Project2 test data\\Yolo\\yolov3.weights\n"
     ]
    }
   ],
   "source": [
    "#USING YOLO PRETRAINED MODEL\n",
    "\n",
    "print(notebook_path)\n",
    "yoloWheights_path = os.path.join(notebook_path,\"Yolo\",\"yolov3.weights\")\n",
    "yoloCfg_path = os.path.join(notebook_path, \"Yolo\",\"yolov3.cfg\")\n",
    "classes_name = os.path.join(notebook_path, \"Yolo\", \"coco.names\")\n",
    "\n",
    "print(yoloWheights_path)\n",
    "\n",
    "def load_yolo():\n",
    "\tnet = cv.dnn.readNet(yoloCfg_path,\n",
    "\t\t       \t\t\t  yoloWheights_path)\n",
    "\tclasses = []\n",
    "\twith open(classes_name, \"r\") as f:\n",
    "\t\tclasses = [line.strip() for line in f.readlines()] \n",
    "\t\n",
    "\toutput_layers = [layer_name for layer_name in net.getUnconnectedOutLayersNames()]\n",
    "\tcolors = np.random.uniform(0, 255, size=(len(classes), 3))\n",
    "\treturn net, classes, colors, output_layers"
   ]
  },
  {
   "cell_type": "code",
   "execution_count": 103,
   "metadata": {},
   "outputs": [],
   "source": [
    "def load_image(image, _fx=1, _fy=1):\n",
    "\t# image loading\n",
    "\t\n",
    "\theight_orig, width_orig, _ = image.shape\n",
    "\t\n",
    "\timg = cv.resize(image, None, fx=_fx, fy=_fy)\n",
    "\theight, width, channels = img.shape\n",
    " \n",
    "\treturn img, height, width, channels"
   ]
  },
  {
   "cell_type": "code",
   "execution_count": 104,
   "metadata": {},
   "outputs": [],
   "source": [
    "def detect_cars_on_image(img, net, outputLayers):\t\t\t\n",
    "\tblob = cv.dnn.blobFromImage(img, scalefactor=0.00392, size=(320, 320), mean=(0, 0, 0), swapRB=True, crop=False)\n",
    "\tnet.setInput(blob)\n",
    "\toutputs = net.forward(outputLayers)\n",
    "\treturn blob, outputs"
   ]
  },
  {
   "cell_type": "code",
   "execution_count": 105,
   "metadata": {},
   "outputs": [],
   "source": [
    "def get_box_dimensions(outputs, height, width):\n",
    "\tboxes = []\n",
    "\tconfs = []\n",
    "\tclass_ids = []\n",
    "\tfor output in outputs:\n",
    "\t\tfor detect in output:\n",
    "\t\t\tscores = detect[5:]\n",
    "\t\t\t# print(scores)\n",
    "\t\t\tclass_id = np.argmax(scores)\n",
    "\t\t\tconf = scores[class_id]\n",
    "\t\t\tif conf > 0.3:\n",
    "\t\t\t\tcenter_x = int(detect[0] * width)\n",
    "\t\t\t\tcenter_y = int(detect[1] * height)\n",
    "\t\t\t\tw = int(detect[2] * width)\n",
    "\t\t\t\th = int(detect[3] * height)\n",
    "\t\t\t\tx = int(center_x - w/2)\n",
    "\t\t\t\ty = int(center_y - h / 2)\n",
    "\t\t\t\tboxes.append([x, y, w, h])\n",
    "\t\t\t\tconfs.append(float(conf))\n",
    "\t\t\t\tclass_ids.append(class_id)\n",
    "\treturn boxes, confs, class_ids"
   ]
  },
  {
   "cell_type": "code",
   "execution_count": 106,
   "metadata": {},
   "outputs": [],
   "source": [
    "def draw_cars(boxes, confs, colors, class_ids, classes, img):\n",
    "    indexes = cv.dnn.NMSBoxes(boxes, confs, 0.5, 0.4)\n",
    "    font = cv.FONT_HERSHEY_PLAIN\n",
    "    autovehicles = [\"bicycle\",\"car\",\"motorbike\",\"bus\",\"truck\"]\n",
    "\n",
    "    car_boxes = []\n",
    "    for i in range(len(boxes)):\n",
    "        if i in indexes:\n",
    "\n",
    "            x, y, w, h = boxes[i]\n",
    "            label = str(classes[class_ids[i]])\n",
    "            color = colors[i]\n",
    "            if label in autovehicles:\n",
    "                car_boxes.append(boxes[i])\n",
    "                cv.rectangle(img, (x,y), (x+w, y+h), color, 2)\n",
    "                cv.putText(img, label, (x, y - 5), font, 1, color, 1)\n",
    "    \n",
    "    # cv.imshow(\"Image with cars detected\", img)\n",
    "    # cv.waitKey(0)\n",
    "    # cv.destroyAllWindows()\n",
    "\n",
    "    return car_boxes"
   ]
  },
  {
   "cell_type": "code",
   "execution_count": 107,
   "metadata": {},
   "outputs": [],
   "source": [
    "def image_detect(img): \n",
    "\tmodel, classes, colors, output_layers = load_yolo()\n",
    "\timage, height, width, channels = load_image(img)\n",
    "\tblob, outputs = detect_cars_on_image(image, model, output_layers)\n",
    "\tboxes, confs, class_ids = get_box_dimensions(outputs, height, width)\n",
    "\tboxes_return = draw_cars(boxes, confs, colors, class_ids, classes, image)\n",
    "\n",
    "\treturn boxes_return"
   ]
  },
  {
   "cell_type": "code",
   "execution_count": 108,
   "metadata": {},
   "outputs": [],
   "source": [
    "roads = {\"1\":road1_corners,\n",
    "         \"2\":road2_corners,\n",
    "         \"3\":road3_corners,\n",
    "         \"4\":road4_corners,\n",
    "         \"5\":road5_corners,\n",
    "         \"6\":road6_corners,\n",
    "         \"7\":road7_corners,\n",
    "         \"8\":road8_corners,\n",
    "         \"9\":road9_corners}\n",
    "\n",
    "def get_box_coordinates(box):\n",
    "    x = box[0]\n",
    "    y = box[1]\n",
    "    w = box[2]\n",
    "    h = box[3]\n",
    "    \n",
    "    return [[x,y],[x+w,y],[x+w,y+h],[x,y+h]]\n",
    "    \n",
    "\n",
    "def check_roads(road_number, image):\n",
    "    \n",
    "    boxes = image_detect(np.copy(image))\n",
    "    if road_number in [\"1\", \"2\", \"3\", \"7\", \"8\", \"9\"]:\n",
    "        road = roads[road_number]\n",
    "        road_poly = Polygon(road)\n",
    "        for box in boxes:\n",
    "            \n",
    "            box_coordinates = get_box_coordinates(box)\n",
    "            \n",
    "            box_poly = Polygon(box_coordinates)\n",
    "            if box_poly.intersects(road_poly):\n",
    "                \n",
    "                intersection_area = box_poly.intersection(road_poly).area\n",
    "                percentage = intersection_area / box_poly.area\n",
    "                if percentage >= 0.4:\n",
    "                    \n",
    "                    return \"1\", box_coordinates\n",
    "                \n",
    "    if road_number in [\"4\", \"5\", \"6\"]:\n",
    "        road = roads[road_number]\n",
    "        road_poly = Polygon(road)\n",
    "        for box in boxes:\n",
    "            \n",
    "            box_coordinates = get_box_coordinates(box)\n",
    "            \n",
    "            # print(roads[road_number] , \" \", box_coordinates[0])\n",
    "            if road_poly.contains(Point(box_coordinates[3])):\n",
    "                return \"1\", box_coordinates\n",
    "    \n",
    "    return \"0\", None"
   ]
  },
  {
   "cell_type": "code",
   "execution_count": 109,
   "metadata": {},
   "outputs": [
    {
     "data": {
      "text/plain": [
       "('0', None)"
      ]
     },
     "execution_count": 109,
     "metadata": {},
     "output_type": "execute_result"
    }
   ],
   "source": [
    "img = np.copy(t1_images[1])\n",
    "\n",
    "check_roads(\"9\", img)\n",
    "\n",
    "# show_image(img, window_name=\"first image from set\")"
   ]
  },
  {
   "cell_type": "code",
   "execution_count": 110,
   "metadata": {},
   "outputs": [],
   "source": [
    "# for q in t1_querries:\n",
    "def check_cars_on_roads(t1_images, t1_querries):\n",
    "    \n",
    "    predictions = []\n",
    "    for i in range(len(t1_images)):\n",
    "\n",
    "        file = open(t1_querries[i])\n",
    "\n",
    "        image = np.copy(t1_images[i])\n",
    "        lines = file.readlines()\n",
    "        line_number = 0\n",
    "        answer = \"\"\n",
    "        for line in lines:\n",
    "            \n",
    "            line_number += 1\n",
    "            \n",
    "            # Skip the first line\n",
    "            if line_number == 1:\n",
    "                answer += line.replace('\\n', '').strip()\n",
    "                continue\n",
    "            \n",
    "            road_number = line.replace('\\n','').strip()\n",
    "            answer +='\\n' + road_number\n",
    "            \n",
    "            if t1_querries[i].endswith('02_3_gt.txt'):\n",
    "                a = \"breakpoint\"\n",
    "            \n",
    "            # print(\"road number\",road_number)\n",
    "            response, box = check_roads(road_number, image)\n",
    "            answer += \" \" + response\n",
    "            \n",
    "            \n",
    "            #*for visiualising querried traffic band and cars on it\n",
    "            # cv.polylines(image, [roads[road_number]], isClosed=True, color=(0, 0, 255), thickness=2)\n",
    "            # if box is not None:\n",
    "            #     #x, y, w, h = box\n",
    "            #     cv.rectangle(image, box[0], box[2], (255, 255, 0), thickness=2)\n",
    "                \n",
    "            # show_image(image)\n",
    "            \n",
    "        predictions.append(answer)\n",
    "        \n",
    "    return predictions\n"
   ]
  },
  {
   "cell_type": "code",
   "execution_count": 111,
   "metadata": {},
   "outputs": [],
   "source": [
    "show_image(t1_images[0])"
   ]
  },
  {
   "cell_type": "code",
   "execution_count": 112,
   "metadata": {},
   "outputs": [
    {
     "name": "stdout",
     "output_type": "stream",
     "text": [
      "predictions length:  50\n"
     ]
    }
   ],
   "source": [
    "predictions = check_cars_on_roads(t1_images= t1_images, t1_querries=t1_querries)\n",
    "print(\"predictions length: \",len(predictions))"
   ]
  },
  {
   "cell_type": "code",
   "execution_count": 113,
   "metadata": {},
   "outputs": [
    {
     "name": "stdout",
     "output_type": "stream",
     "text": [
      "ground truth length:  50\n"
     ]
    }
   ],
   "source": [
    "#Get GROUND-TRUTH\n",
    "ground_truth_path = os.path.join(notebook_path,\"train\",\"Task1\",\"ground-truth\")\n",
    "file_names = os.listdir(ground_truth_path)\n",
    "gt_paths = []\n",
    "for file in file_names:\n",
    "    gt_paths.append(os.path.join(ground_truth_path, file))\n",
    "print(\"ground truth length: \", len(gt_paths))"
   ]
  },
  {
   "cell_type": "code",
   "execution_count": 114,
   "metadata": {},
   "outputs": [
    {
     "name": "stdout",
     "output_type": "stream",
     "text": [
      "['02_1_gt.txt']\n",
      "GROUND TRUTH\n",
      "3\n",
      "2 1\n",
      "4 0\n",
      "9 1\n",
      "PREDICTION\n",
      "3\n",
      "2 0\n",
      "4 0\n",
      "9 1\n",
      "['02_2_gt.txt']\n",
      "GROUND TRUTH\n",
      "3\n",
      "2 1\n",
      "6 1\n",
      "9 1\n",
      "PREDICTION\n",
      "3\n",
      "2 0\n",
      "6 1\n",
      "9 1\n",
      "['06_2_gt.txt']\n",
      "GROUND TRUTH\n",
      "3\n",
      "1 0\n",
      "2 1\n",
      "3 1\n",
      "PREDICTION\n",
      "3\n",
      "1 0\n",
      "2 1\n",
      "3 0\n",
      "['06_3_gt.txt']\n",
      "GROUND TRUTH\n",
      "3\n",
      "2 1\n",
      "4 1\n",
      "6 1\n",
      "PREDICTION\n",
      "3\n",
      "2 0\n",
      "4 1\n",
      "6 1\n",
      "['07_3_gt.txt']\n",
      "GROUND TRUTH\n",
      "3\n",
      "2 1\n",
      "5 1\n",
      "7 0\n",
      "PREDICTION\n",
      "3\n",
      "2 0\n",
      "5 1\n",
      "7 0\n",
      "['08_2_gt.txt']\n",
      "GROUND TRUTH\n",
      "4\n",
      "2 1\n",
      "7 0\n",
      "8 0\n",
      "9 0\n",
      "PREDICTION\n",
      "4\n",
      "2 0\n",
      "7 0\n",
      "8 0\n",
      "9 0\n",
      "['08_3_gt.txt']\n",
      "GROUND TRUTH\n",
      "3\n",
      "5 1\n",
      "6 1\n",
      "7 0\n",
      "PREDICTION\n",
      "3\n",
      "5 1\n",
      "6 0\n",
      "7 0\n",
      "['12_1_gt.txt']\n",
      "GROUND TRUTH\n",
      "3\n",
      "1 1\n",
      "2 1\n",
      "4 0\n",
      "PREDICTION\n",
      "3\n",
      "1 0\n",
      "2 0\n",
      "4 0\n",
      "['13_3_gt.txt']\n",
      "GROUND TRUTH\n",
      "4\n",
      "1 0\n",
      "3 0\n",
      "8 1\n",
      "9 0\n",
      "PREDICTION\n",
      "4\n",
      "1 0\n",
      "3 0\n",
      "8 0\n",
      "9 0\n",
      "['15_3_gt.txt']\n",
      "GROUND TRUTH\n",
      "4\n",
      "6 0\n",
      "7 0\n",
      "8 0\n",
      "9 1\n",
      "PREDICTION\n",
      "4\n",
      "6 0\n",
      "7 0\n",
      "8 0\n",
      "9 0\n",
      "images correctly predicted:  40\n",
      "total points gained:  1.6\n",
      "failed images:  [['02_1_gt.txt'], ['02_2_gt.txt'], ['06_2_gt.txt'], ['06_3_gt.txt'], ['07_3_gt.txt'], ['08_2_gt.txt'], ['08_3_gt.txt'], ['12_1_gt.txt'], ['13_3_gt.txt'], ['15_3_gt.txt']]\n"
     ]
    }
   ],
   "source": [
    "\n",
    "i = 0\n",
    "sum = 0\n",
    "failed_images = []\n",
    "for gt in gt_paths:\n",
    "    \n",
    "    file = open(gt)\n",
    "    gt_content = file.read()\n",
    "    \n",
    "    if gt_content == predictions[i]:\n",
    "        sum +=1\n",
    "    else:\n",
    "        failed_images.append(gt.split('\\\\')[-1:])\n",
    "        print(gt.split('\\\\')[-1:])\n",
    "        print(\"GROUND TRUTH\")\n",
    "        print(gt_content)\n",
    "        print(\"PREDICTION\")\n",
    "        print(predictions[i])\n",
    "    \n",
    "    i+=1\n",
    "    \n",
    "    \n",
    "print(\"images correctly predicted: \", sum)\n",
    "print(\"total points gained: \", sum * 0.04)\n",
    "print(\"failed images: \", failed_images)"
   ]
  },
  {
   "cell_type": "code",
   "execution_count": 116,
   "metadata": {},
   "outputs": [
    {
     "name": "stdout",
     "output_type": "stream",
     "text": [
      "01_1_predicted.txt\n",
      "01_2_predicted.txt\n",
      "01_3_predicted.txt\n",
      "02_1_predicted.txt\n",
      "02_2_predicted.txt\n",
      "02_3_predicted.txt\n",
      "03_1_predicted.txt\n",
      "03_2_predicted.txt\n",
      "03_3_predicted.txt\n",
      "04_1_predicted.txt\n",
      "04_2_predicted.txt\n",
      "04_3_predicted.txt\n",
      "05_1_predicted.txt\n",
      "05_2_predicted.txt\n",
      "05_3_predicted.txt\n",
      "06_1_predicted.txt\n",
      "06_2_predicted.txt\n",
      "06_3_predicted.txt\n",
      "07_1_predicted.txt\n",
      "07_2_predicted.txt\n",
      "07_3_predicted.txt\n",
      "08_1_predicted.txt\n",
      "08_2_predicted.txt\n",
      "08_3_predicted.txt\n",
      "09_1_predicted.txt\n",
      "09_2_predicted.txt\n",
      "09_3_predicted.txt\n",
      "10_1_predicted.txt\n",
      "10_2_predicted.txt\n",
      "10_3_predicted.txt\n",
      "11_1_predicted.txt\n",
      "11_2_predicted.txt\n",
      "11_3_predicted.txt\n",
      "11_4_predicted.txt\n",
      "12_1_predicted.txt\n",
      "12_2_predicted.txt\n",
      "12_3_predicted.txt\n",
      "12_4_predicted.txt\n",
      "13_1_predicted.txt\n",
      "13_2_predicted.txt\n",
      "13_3_predicted.txt\n",
      "13_4_predicted.txt\n",
      "14_1_predicted.txt\n",
      "14_2_predicted.txt\n",
      "14_3_predicted.txt\n",
      "14_4_predicted.txt\n",
      "15_1_predicted.txt\n",
      "15_2_predicted.txt\n",
      "15_3_predicted.txt\n",
      "15_4_predicted.txt\n",
      "Length of predicted file names:  50\n"
     ]
    }
   ],
   "source": [
    "def create_predicted_file_names(folder_path):\n",
    "    \n",
    "    files = os.listdir(folder_path)\n",
    "\n",
    "    predicted_names = []\n",
    "    #os.chdir(folder_path)\n",
    "    files = os.listdir(folder_path)\n",
    "    \n",
    "    for file in files:\n",
    "        if f\"{file}\".endswith(\".jpg\"):\n",
    "            \n",
    "            name = f\"{file}\".strip(\".jpg\") + \"_predicted.txt\"\n",
    "            print(name)\n",
    "            predicted_names.append(name)\n",
    "        \n",
    "    return predicted_names\n",
    "\n",
    "predicted_file_names = create_predicted_file_names(t1_folder)\n",
    "print(\"Length of predicted file names: \", len(predicted_file_names))"
   ]
  },
  {
   "cell_type": "code",
   "execution_count": 117,
   "metadata": {},
   "outputs": [],
   "source": [
    "i = 0\n",
    "for p in predictions:\n",
    "    \n",
    "    fileName = predicted_file_names[i]\n",
    "\n",
    "    with open(fileName, \"w\") as file:\n",
    "        file.write(p)\n",
    "        \n",
    "    i +=1\n",
    "    "
   ]
  },
  {
   "cell_type": "code",
   "execution_count": 29,
   "metadata": {},
   "outputs": [
    {
     "data": {
      "text/plain": [
       "50"
      ]
     },
     "execution_count": 29,
     "metadata": {},
     "output_type": "execute_result"
    }
   ],
   "source": [
    "len(predicted_file_names)"
   ]
  }
 ],
 "metadata": {
  "kernelspec": {
   "display_name": "base",
   "language": "python",
   "name": "python3"
  },
  "language_info": {
   "codemirror_mode": {
    "name": "ipython",
    "version": 3
   },
   "file_extension": ".py",
   "mimetype": "text/x-python",
   "name": "python",
   "nbconvert_exporter": "python",
   "pygments_lexer": "ipython3",
   "version": "3.9.7"
  },
  "orig_nbformat": 4
 },
 "nbformat": 4,
 "nbformat_minor": 2
}
