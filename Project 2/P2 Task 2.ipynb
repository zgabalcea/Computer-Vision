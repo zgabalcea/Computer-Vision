{
 "cells": [
  {
   "cell_type": "code",
   "execution_count": 149,
   "metadata": {},
   "outputs": [],
   "source": [
    "import numpy as np\n",
    "import cv2 as cv \n",
    "import os"
   ]
  },
  {
   "cell_type": "code",
   "execution_count": 150,
   "metadata": {},
   "outputs": [
    {
     "name": "stdout",
     "output_type": "stream",
     "text": [
      "path of video = train\\Task2\\03.mp4\n",
      "frame_width = 1920\n",
      "frame_height = 880\n",
      "total number of frames = 885\n",
      "frames per second = 60\n"
     ]
    }
   ],
   "source": [
    "\n",
    "base_folder = os.path.join(\"train\",\"Task2\")\n",
    "path_video1 = os.path.join(base_folder, \"03.mp4\")\n",
    "\n",
    "print(\"path of video = \" + path_video1)\n",
    "# Open the video\n",
    "cap = cv.VideoCapture(path_video1)\n",
    "\n",
    "if cap.isOpened() == False:\n",
    "    print(\"Error opening video stream or file\")\n",
    "    \n",
    "frame_width = int(cap.get(cv.CAP_PROP_FRAME_WIDTH))\n",
    "print('frame_width = ' + str(frame_width))\n",
    "frame_height = int(cap.get(cv.CAP_PROP_FRAME_HEIGHT))\n",
    "print('frame_height = ' + str(frame_height))\n",
    "\n",
    "length = int(cap.get(cv.CAP_PROP_FRAME_COUNT))\n",
    "print(\"total number of frames = \" + str(length))\n",
    "\n",
    "fps = int(cap.get(cv.CAP_PROP_FPS))\n",
    "print(\"frames per second = \" + str(fps))\n",
    "\n",
    "cap.release()"
   ]
  },
  {
   "cell_type": "code",
   "execution_count": 151,
   "metadata": {},
   "outputs": [],
   "source": [
    "def get_video_info(video_path):\n",
    "    \n",
    "    print(\"path of video = \" + video_path)\n",
    "    # Open the video\n",
    "    cap = cv.VideoCapture(video_path)\n",
    "\n",
    "    if cap.isOpened() == False:\n",
    "        print(\"Error opening video stream or file\")\n",
    "        \n",
    "    frame_width = int(cap.get(cv.CAP_PROP_FRAME_WIDTH))\n",
    "    print('frame_width = ' + str(frame_width))\n",
    "    frame_height = int(cap.get(cv.CAP_PROP_FRAME_HEIGHT))\n",
    "    print('frame_height = ' + str(frame_height))\n",
    "\n",
    "    length = int(cap.get(cv.CAP_PROP_FRAME_COUNT))\n",
    "    print(\"total number of frames = \" + str(length))\n",
    "\n",
    "    fps = int(cap.get(cv.CAP_PROP_FPS))\n",
    "    print(\"frames per second = \" + str(fps))\n",
    "\n",
    "    cap.release()\n"
   ]
  },
  {
   "cell_type": "code",
   "execution_count": 152,
   "metadata": {},
   "outputs": [
    {
     "name": "stdout",
     "output_type": "stream",
     "text": [
      "['train\\\\Task2\\\\01.mp4', 'train\\\\Task2\\\\02.mp4', 'train\\\\Task2\\\\03.mp4', 'train\\\\Task2\\\\04.mp4', 'train\\\\Task2\\\\05.mp4', 'train\\\\Task2\\\\06.mp4', 'train\\\\Task2\\\\07.mp4', 'train\\\\Task2\\\\08.mp4', 'train\\\\Task2\\\\09.mp4', 'train\\\\Task2\\\\10.mp4', 'train\\\\Task2\\\\11.mp4', 'train\\\\Task2\\\\12.mp4', 'train\\\\Task2\\\\13.mp4', 'train\\\\Task2\\\\14.mp4', 'train\\\\Task2\\\\15.mp4']\n",
      "['train\\\\Task2\\\\01.txt', 'train\\\\Task2\\\\02.txt', 'train\\\\Task2\\\\03.txt', 'train\\\\Task2\\\\04.txt', 'train\\\\Task2\\\\05.txt', 'train\\\\Task2\\\\06.txt', 'train\\\\Task2\\\\07.txt', 'train\\\\Task2\\\\08.txt', 'train\\\\Task2\\\\09.txt', 'train\\\\Task2\\\\10.txt', 'train\\\\Task2\\\\11.txt', 'train\\\\Task2\\\\12.txt', 'train\\\\Task2\\\\13.txt', 'train\\\\Task2\\\\14.txt', 'train\\\\Task2\\\\15.txt']\n"
     ]
    }
   ],
   "source": [
    "#get videos and initial bounding boxes file paths\n",
    "def get_videos_path_and_initial_bb(videos_path):\n",
    "    \n",
    "    files = os.listdir(videos_path)\n",
    "\n",
    "    vids_paths = []\n",
    "    bb_paths = []\n",
    "    \n",
    "    for file_name in files:\n",
    "            \n",
    "        path = os.path.join(videos_path,file_name)\n",
    "        if path.endswith(\".mp4\"):\n",
    "            vids_paths.append(path)\n",
    "        else:\n",
    "            if path.endswith(\".txt\"):\n",
    "                bb_paths.append(path)\n",
    "            \n",
    "    return vids_paths, bb_paths\n",
    "            \n",
    "    \n",
    "vids, ibb_paths = get_videos_path_and_initial_bb(base_folder)\n",
    "print(vids)\n",
    "print(ibb_paths)"
   ]
  },
  {
   "cell_type": "code",
   "execution_count": 153,
   "metadata": {},
   "outputs": [],
   "source": [
    "# Display the video\n",
    "def display_video(video_path: str, max_number_of_frame_to_run: int = None) -> None:\n",
    "    \"\"\"\n",
    "    This function display the video of the screen frame by frame.\n",
    "    :param video_path: Path to the video\n",
    "    :param max_number_of_frame_to_run: Set how many frame to be displayed. If None all frames will be displayed.\n",
    "    \"\"\"\n",
    "    \n",
    "    current_frame = 0 \n",
    "    \n",
    "    # Open the video \n",
    "    cap = cv.VideoCapture(video_path)\n",
    "\n",
    "    while cap.isOpened(): \n",
    "\n",
    "        ret, frame = cap.read() # Read the frame \n",
    "        if ret is True:\n",
    "            current_frame = current_frame + 1 \n",
    "            cv.imshow(\"Video\", frame)\n",
    "\n",
    "            if max_number_of_frame_to_run is not None and current_frame > max_number_of_frame_to_run:\n",
    "                break\n",
    "\n",
    "            if cv.waitKey(25) & 0xFF == ord('q'):\n",
    "                break\n",
    "        else:\n",
    "            break\n",
    "\n",
    "    # after playing the video, release the video capture\n",
    "    cap.release()\n",
    "    # close all the frames\n",
    "    cv.destroyAllWindows()\n",
    "    \n",
    "def show_image(image_, window_name='image', timeout=0):\n",
    "    \"\"\"\n",
    "    Show image.\n",
    "    :param image_\n",
    "    :param window_name\n",
    "    :param timeout\n",
    "    \"\"\"\n",
    "    height, width = image_.shape[:2]\n",
    "\n",
    "    # fx = 0.3\n",
    "    # fy = 0.3\n",
    "    # new_width = int(width * fx)\n",
    "    # new_height = int(height * fy)\n",
    "    # image_ = cv.resize(image_,(new_width, new_height))\n",
    "    \n",
    "    \n",
    "    cv.imshow(window_name, np.uint8(image_))\n",
    "    cv.waitKey(timeout) \n",
    "    cv.destroyAllWindows()\n",
    "    \n",
    "display_video(vids[0])"
   ]
  },
  {
   "cell_type": "code",
   "execution_count": 154,
   "metadata": {},
   "outputs": [
    {
     "name": "stdout",
     "output_type": "stream",
     "text": [
      "path of video = train\\Task2\\01.mp4\n",
      "frame_width = 1920\n",
      "frame_height = 880\n",
      "total number of frames = 884\n",
      "frames per second = 60\n"
     ]
    }
   ],
   "source": [
    "get_video_info(vids[0])"
   ]
  },
  {
   "cell_type": "code",
   "execution_count": 155,
   "metadata": {},
   "outputs": [],
   "source": [
    "display_video(vids[0])"
   ]
  },
  {
   "cell_type": "code",
   "execution_count": 156,
   "metadata": {},
   "outputs": [],
   "source": [
    "#Get the moving objects from current frame, according the background( last 3rd frame)\n",
    "\n",
    "def get_mask_with_moving_objects(background, frame2, threshold=50):\n",
    "    \n",
    "    diff = cv.absdiff(background, frame2)\n",
    "        \n",
    "    #Apply median blurr to reduce noise\n",
    "    diff_red = cv.medianBlur(diff, 5)\n",
    "\n",
    "    # Convert the difference to grayscale\n",
    "    gray = cv.cvtColor(diff_red, cv.COLOR_BGR2GRAY)\n",
    "\n",
    "    # Apply a threshold to obtain a binary image\n",
    "    _, thresh = cv.threshold(gray, threshold, 255, cv.THRESH_BINARY)\n",
    "    \n",
    "    \n",
    "    # Perform dilation\n",
    "    kernel = np.ones((30, 30), np.uint8)  # You can adjust the size and shape of the kernel\n",
    "    dilated_img = cv.dilate(thresh, kernel, iterations=1)\n",
    "    \n",
    "    result = cv.bitwise_and(frame2,frame2, mask= dilated_img)\n",
    "    \n",
    "    return result"
   ]
  },
  {
   "cell_type": "code",
   "execution_count": 157,
   "metadata": {},
   "outputs": [
    {
     "name": "stdout",
     "output_type": "stream",
     "text": [
      "1 1314 673 1643 880\n",
      "2 1314 673 1643 880\n",
      "3 1306 667 1648 882\n",
      "4 1306 667 1648 882\n",
      "5 1306 667 1648 882\n",
      "6 1306 667 1648 882\n",
      "7 1294 663 1643 883\n",
      "8 1294 663 1643 883\n",
      "9 1294 663 1643 883\n",
      "10 1283 654 1619 865\n",
      "11 1283 654 1619 865\n",
      "12 1283 654 1619 865\n",
      "13 1277 653 1606 860\n",
      "14 1277 653 1606 860\n",
      "15 1277 653 1606 860\n",
      "16 1272 650 1601 857\n",
      "17 1272 650 1601 857\n",
      "18 1272 650 1601 857\n",
      "19 1262 643 1591 850\n",
      "20 1262 643 1591 850\n",
      "21 1262 643 1591 850\n",
      "22 1258 642 1581 845\n",
      "23 1258 642 1581 845\n",
      "24 1258 642 1581 845\n",
      "25 1246 634 1562 833\n",
      "26 1246 634 1562 833\n",
      "27 1246 634 1562 833\n",
      "28 1240 630 1563 833\n",
      "29 1240 630 1563 833\n",
      "30 1240 630 1563 833\n",
      "31 1230 626 1540 821\n",
      "32 1230 626 1540 821\n",
      "33 1230 626 1540 821\n",
      "34 1223 622 1539 821\n",
      "\n"
     ]
    }
   ],
   "source": [
    "#GET BACKGROUND FROM PREVIOUS FRAME\n",
    "bbox_frames = []\n",
    "\n",
    "def trackCar(video_path, tracker, initial_bb):\n",
    "    \n",
    "    answer = \"\"\n",
    "    cap = cv.VideoCapture(video_path)\n",
    "\n",
    "\n",
    "    success, frame1 = cap.read()\n",
    "    if not success:\n",
    "        print(\"Failed to read video\")\n",
    "        exit()\n",
    "    background = frame1.copy()\n",
    "    \n",
    "    success, frame2 = cap.read()\n",
    "    if not success:\n",
    "        print(\"Failed to read video\")\n",
    "        exit()\n",
    "    \n",
    "    cars = get_mask_with_moving_objects(background, frame2)\n",
    "    background=frame2.copy()\n",
    "    \n",
    "    # tracker.init(frame1, initial_bb)\n",
    "    \n",
    "    bbox= initial_bb\n",
    "    x, y, w, h = [int(coord) for coord in bbox]\n",
    "    \n",
    "    #initialize the bbox for first two frames\n",
    "    for i in range(1,3):\n",
    "        bbox_frames.append([i,x,y,x+w,y+h])\n",
    "        answer += f\"{i} {x} {y} {x+w} {y+h}\\n\"\n",
    "\n",
    "    while True:\n",
    "        \n",
    "        success, frame2 = cap.read()\n",
    "        if not success:\n",
    "            break\n",
    "\n",
    "        # Subtract the background from the current frame\n",
    "        cars = get_mask_with_moving_objects(background,frame2)\n",
    "        \n",
    "        # Check if all pixel values are 0(no motion detected)\n",
    "        if np.all(cars == 0) or np.mean(cars[y:y+h,x:x+w]) < 10:\n",
    "            # Update the bbox on this frame with the last bbox, if no motion was detected on frame/current bounding box.\n",
    "            success, bbox = tracker.update(frame2)\n",
    "            i+=1\n",
    "            answer += f\"{i} {x} {y} {x+w} {y+h}\\n\"\n",
    "            \n",
    "            continue\n",
    "        else:\n",
    "        \n",
    "            success, bbox = tracker.update(cars)\n",
    "        \n",
    "        #get coordinates from current bbox\n",
    "        x, y, w, h = [int(coord) for coord in bbox]\n",
    "        i+=1\n",
    "        answer += f\"{i} {x} {y} {x+w} {y+h}\\n\"\n",
    "        \n",
    "        #draw the current bounding box to current frame\n",
    "        # cv.rectangle(cars, (x, y), (x+w, y+h), (0, 255, 0), 2)\n",
    "        cv.imshow('Extracted Background', cars)\n",
    "\n",
    "        if cv.waitKey(25) == ord('q'):\n",
    "            break\n",
    "        \n",
    "        #read next two frame to get a consistent motion.\n",
    "        ret, _ = cap.read()\n",
    "        ret, _ =cap.read()\n",
    "        \n",
    "        for _ in range(2):\n",
    "            i+=1\n",
    "            answer += f\"{i} {x} {y} {x+w} {y+h}\\n\"\n",
    "        \n",
    "        #upgrade the background\n",
    "        background = frame2.copy()\n",
    "        \n",
    "\n",
    "    cap.release()\n",
    "    cv.destroyAllWindows()\n",
    "    \n",
    "    return answer\n",
    "\n",
    "\n",
    "vid_idx =0\n",
    "\n",
    "# for vid_idx in range(len(vids)):\n",
    "bb_file = open(ibb_paths[vid_idx])\n",
    "lines = bb_file.readlines()\n",
    "bb_coordinates = np.array(lines[1].strip('\\n').split())[1:].astype(np.int32)\n",
    "bbox = (bb_coordinates[0], bb_coordinates[1], bb_coordinates[2]-bb_coordinates[0], bb_coordinates[3]-bb_coordinates[1])\n",
    "\n",
    "tracker = cv.legacy.TrackerCSRT_create()\n",
    "\n",
    "result = track_Car(vids[vid_idx], tracker=tracker, initial_bb=bbox)\n",
    "print(result)"
   ]
  },
  {
   "cell_type": "code",
   "execution_count": 158,
   "metadata": {},
   "outputs": [
    {
     "data": {
      "text/plain": [
       "15"
      ]
     },
     "execution_count": 158,
     "metadata": {},
     "output_type": "execute_result"
    }
   ],
   "source": [
    "len(vids)"
   ]
  },
  {
   "cell_type": "code",
   "execution_count": 159,
   "metadata": {},
   "outputs": [],
   "source": [
    "\n",
    "#read the initial bounding box from file, track the car and return the full answer with the bounding box for each frame.\n",
    "def get_file_and_return_bounding_box(video_path, bb_file, tracker):\n",
    "    \n",
    "    bb_file = open(bb_file)\n",
    "    lines = bb_file.readlines()\n",
    "    bb_coordinates = np.array(lines[1].strip('\\n').split())[1:].astype(np.int32)\n",
    "    \n",
    "    \n",
    "    bbox = (bb_coordinates[0], bb_coordinates[1], bb_coordinates[2]-bb_coordinates[0], bb_coordinates[3]-bb_coordinates[1])\n",
    "\n",
    "    answer = track_Car(video_path,tracker, bbox)\n",
    "    \n",
    "    answer = lines[0] + lines[1] + '\\n' + answer\n",
    "    \n",
    "    return answer\n",
    "    \n"
   ]
  },
  {
   "cell_type": "code",
   "execution_count": 160,
   "metadata": {},
   "outputs": [
    {
     "name": "stdout",
     "output_type": "stream",
     "text": [
      "15\n"
     ]
    }
   ],
   "source": [
    "\n",
    "def create_predictions_files_names(videos_path):\n",
    "    \n",
    "    files = os.listdir(videos_path)\n",
    "\n",
    "    files_names = []\n",
    "    \n",
    "    for file_name in files:\n",
    "        \n",
    "        if file_name.endswith(\".mp4\"):\n",
    "            \n",
    "            pred_file_name = file_name.split(\".mp4\")[0] + \"_predicted.txt\"\n",
    "            # print(prediction)\n",
    "            # print(file_name)\n",
    "            \n",
    "            files_names.append(pred_file_name)\n",
    "            \n",
    "\n",
    "            \n",
    "    return files_names\n",
    "            \n",
    "    \n",
    "predicted_file_names = create_predictions_files_names(base_folder)\n",
    "print(len(predicted_file_names))"
   ]
  },
  {
   "cell_type": "code",
   "execution_count": 161,
   "metadata": {},
   "outputs": [
    {
     "name": "stderr",
     "output_type": "stream",
     "text": [
      "d:\\MASTER\\ANUL I\\Sem_II\\Computer Vision\\CV_venv\\lib\\site-packages\\numpy\\core\\fromnumeric.py:3504: RuntimeWarning: Mean of empty slice.\n",
      "  return _methods._mean(a, axis=axis, dtype=dtype,\n",
      "d:\\MASTER\\ANUL I\\Sem_II\\Computer Vision\\CV_venv\\lib\\site-packages\\numpy\\core\\_methods.py:129: RuntimeWarning: invalid value encountered in scalar divide\n",
      "  ret = ret.dtype.type(ret / rcount)\n"
     ]
    }
   ],
   "source": [
    "results = []\n",
    "#iterate over each video path, initialize the tracker, track cars, and write the answer in files\n",
    "for i in range(len(vids)):\n",
    "    \n",
    "    tracker = cv.legacy.TrackerCSRT_create()\n",
    "    \n",
    "    answer = get_file_and_return_bounding_box(vids[i],ibb_paths[i], tracker)\n",
    "    fileName = predicted_file_names[i]\n",
    "\n",
    "    \n",
    "    with open(fileName, \"w\") as file:\n",
    "        file.write(answer)"
   ]
  }
 ],
 "metadata": {
  "kernelspec": {
   "display_name": "base",
   "language": "python",
   "name": "python3"
  },
  "language_info": {
   "codemirror_mode": {
    "name": "ipython",
    "version": 3
   },
   "file_extension": ".py",
   "mimetype": "text/x-python",
   "name": "python",
   "nbconvert_exporter": "python",
   "pygments_lexer": "ipython3",
   "version": "3.9.7"
  },
  "orig_nbformat": 4
 },
 "nbformat": 4,
 "nbformat_minor": 2
}
